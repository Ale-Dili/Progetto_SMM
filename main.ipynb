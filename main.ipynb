{
 "cells": [
  {
   "cell_type": "code",
   "execution_count": null,
   "metadata": {},
   "outputs": [],
   "source": [
    "from ucimlrepo import fetch_ucirepo \n",
    "\n",
    "from sklearn.model_selection import train_test_split\n",
    "from normalizer import Normalizer\n",
    "import pandas as pd\n",
    "import numpy as np\n",
    "\n"
   ]
  },
  {
   "cell_type": "code",
   "execution_count": null,
   "metadata": {},
   "outputs": [],
   "source": [
    "mushroom = fetch_ucirepo(id=848) \n",
    "  \n",
    "attributes_type = mushroom.variables.type\n",
    "# data (as pandas dataframes) \n",
    "X = mushroom.data.features \n",
    "y = mushroom.data.targets "
   ]
  },
  {
   "cell_type": "code",
   "execution_count": 26,
   "metadata": {},
   "outputs": [
    {
     "name": "stdout",
     "output_type": "stream",
     "text": [
      "sasas\n",
      "cap-diameter True\n",
      "cap-shape False\n",
      "cap-surface False\n",
      "cap-color False\n",
      "does-bruise-or-bleed False\n",
      "gill-attachment False\n",
      "gill-spacing False\n",
      "gill-color False\n",
      "stem-height True\n",
      "stem-width True\n",
      "stem-root False\n",
      "stem-surface False\n",
      "stem-color False\n",
      "veil-type False\n",
      "veil-color False\n",
      "has-ring False\n",
      "ring-type False\n",
      "spore-print-color False\n",
      "habitat False\n",
      "season False\n"
     ]
    },
    {
     "ename": "AttributeError",
     "evalue": "'Decision_tree' object has no attribute '_grow_tree'",
     "output_type": "error",
     "traceback": [
      "\u001b[0;31m---------------------------------------------------------------------------\u001b[0m",
      "\u001b[0;31mAttributeError\u001b[0m                            Traceback (most recent call last)",
      "Cell \u001b[0;32mIn[26], line 19\u001b[0m\n\u001b[1;32m     14\u001b[0m \u001b[38;5;66;03m#y_train = y_train.to_numpy().flatten()\u001b[39;00m\n\u001b[1;32m     15\u001b[0m \n\u001b[1;32m     16\u001b[0m \u001b[38;5;66;03m# Decision tree classifier\u001b[39;00m\n\u001b[1;32m     17\u001b[0m dt \u001b[38;5;241m=\u001b[39m decision_tree\u001b[38;5;241m.\u001b[39mDecision_tree(splitting_criteria \u001b[38;5;241m=\u001b[39m \u001b[38;5;124m'\u001b[39m\u001b[38;5;124mentropy\u001b[39m\u001b[38;5;124m'\u001b[39m, max_depth \u001b[38;5;241m=\u001b[39m \u001b[38;5;241m18\u001b[39m, max_leaves \u001b[38;5;241m=\u001b[39m \u001b[38;5;241m5\u001b[39m, min_samples_split\u001b[38;5;241m=\u001b[39m\u001b[38;5;241m2\u001b[39m)\n\u001b[0;32m---> 19\u001b[0m \u001b[43mdt\u001b[49m\u001b[38;5;241;43m.\u001b[39;49m\u001b[43mfit\u001b[49m\u001b[43m(\u001b[49m\u001b[43mX_train\u001b[49m\u001b[43m,\u001b[49m\u001b[43m \u001b[49m\u001b[43my_train\u001b[49m\u001b[43m)\u001b[49m\n",
      "File \u001b[0;32m~/Documents/Universita/Statistical_Method/progetto/decision_tree.py:32\u001b[0m, in \u001b[0;36mDecision_tree.fit\u001b[0;34m(self, X, y)\u001b[0m\n\u001b[1;32m     30\u001b[0m \u001b[38;5;28mprint\u001b[39m(\u001b[38;5;124m'\u001b[39m\u001b[38;5;124msasas\u001b[39m\u001b[38;5;124m'\u001b[39m)\n\u001b[1;32m     31\u001b[0m \u001b[38;5;28mself\u001b[39m\u001b[38;5;241m.\u001b[39m_create_thresholds(X)\n\u001b[0;32m---> 32\u001b[0m \u001b[38;5;28;43mself\u001b[39;49m\u001b[38;5;241;43m.\u001b[39;49m\u001b[43m_grow_tree\u001b[49m()\n",
      "\u001b[0;31mAttributeError\u001b[0m: 'Decision_tree' object has no attribute '_grow_tree'"
     ]
    }
   ],
   "source": [
    "import importlib\n",
    "import decision_tree\n",
    "importlib.reload(decision_tree)  # Ricarica il modulo\n",
    "\n",
    "\n",
    "X_train, X_test, y_train, y_test = train_test_split(X, y, test_size=0.2, random_state=42)\n",
    "\n",
    "normalizer = Normalizer(n_bins=4, normalization=\"minmax\")\n",
    "\n",
    "X_train = normalizer.normalize(X_train)\n",
    "y_train = normalizer._fix_label(y_train)\n",
    "\n",
    "\n",
    "#y_train = y_train.to_numpy().flatten()\n",
    "\n",
    "# Decision tree classifier\n",
    "dt = decision_tree.Decision_tree(splitting_criteria = 'entropy', max_depth = 18, max_leaves = 5, min_samples_split=2)\n",
    "\n",
    "dt.fit(X_train, y_train)"
   ]
  }
 ],
 "metadata": {
  "kernelspec": {
   "display_name": "base",
   "language": "python",
   "name": "python3"
  },
  "language_info": {
   "codemirror_mode": {
    "name": "ipython",
    "version": 3
   },
   "file_extension": ".py",
   "mimetype": "text/x-python",
   "name": "python",
   "nbconvert_exporter": "python",
   "pygments_lexer": "ipython3",
   "version": "3.10.12"
  }
 },
 "nbformat": 4,
 "nbformat_minor": 2
}
